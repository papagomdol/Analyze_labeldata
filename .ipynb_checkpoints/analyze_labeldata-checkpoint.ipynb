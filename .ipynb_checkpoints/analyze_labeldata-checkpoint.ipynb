{
 "cells": [
  {
   "cell_type": "markdown",
   "id": "5e32e126",
   "metadata": {},
   "source": [
    "# 인공지능 학습용 데이터 객체 정보 수집 프로그램\n",
    "\n",
    "## 작성정보\n",
    "\n",
    "1. 작성일자 : 2021. 10. 24.\n",
    "\n",
    "1. 작성자 : 한국지능정보사회진흥원 인공지능데이터전략팀 김민준 책임연구원\n",
    "\n",
    "1. 버전정보 : ver.0.1\n",
    "\n",
    "## 동작방법\n",
    "\n",
    "1. AI 허브에서 다운로드 받은 인공지능 학습용 데이터 폴더를 선택한다.\n",
    "\n",
    "1. 객체명이 기입된 정보를 입력한다.\n",
    "\n",
    "1. 분석시작 구문을 실행한다.\n",
    "\n",
    "1. 분석 결과를 확인하고, 엑셀로 출력해본다."
   ]
  },
  {
   "cell_type": "markdown",
   "id": "c2491acf",
   "metadata": {},
   "source": [
    "### 사전 정의 부"
   ]
  },
  {
   "cell_type": "code",
   "execution_count": 28,
   "id": "b10035b7",
   "metadata": {},
   "outputs": [],
   "source": [
    "import os\n",
    "import json\n",
    "import pandas as pd\n",
    "\n",
    "# 객체명을 입력한다.\n",
    "# 현재 class 라는 이름으로 입력되어 있고, 상황에 따라 따옴표 안에 내용을 변경한다.\n",
    "# 예) class -> id\n",
    "class_key = 'category_id'\n",
    "# 객체 통계 조사용 dict 구조\n",
    "class_dict = {}\n",
    "\n",
    "# 인공지능 학습용 데이터 폴더 선택\n",
    "# ver0.1에서는 nb가 있는 폴더를 기본 폴더라고 생각\n",
    "data_dir = './'\n",
    "#data_dir = 'D:/sidewalk polygon/주행 중 건물 촬영 이미지'\n",
    "\n",
    "# 함수 : 입력경로 내의 모든 하부 디렉토리 내의 json 파일을 조사하여 목록을 돌려줌\n",
    "# 입력 : 입력경로\n",
    "# 출력 : JSON 파일 리스트\n",
    "def search_json(in_dir):\n",
    "    json_list = []\n",
    "    \n",
    "    for (path, dir, files) in os.walk(in_dir):\n",
    "        for filename in files:\n",
    "            ext = os.path.splitext(filename)[-1]\n",
    "            if ext == '.json':\n",
    "                json_list.append(f'{path}/{filename}')\n",
    "                \n",
    "    return json_list\n",
    "\n",
    "# 함수 : class_dict 내 value가 있으면 횟수증가, 없으면 1로 설정\n",
    "# 입력 : value, dict\n",
    "def counting_value(val):\n",
    "    if val in class_dict:\n",
    "        class_dict[val] = class_dict[val] + 1\n",
    "    else:\n",
    "        class_dict[val] = 1\n",
    "\n",
    "# 함수 : json objects에서 특정 키 값의 횟수를 측정하여 dict에 기록\n",
    "# 입력 : json object, key\n",
    "def extract_key(json):\n",
    "    if isinstance(json, dict):\n",
    "        for k, v in json.items():\n",
    "            if isinstance(v, (dict, list)):\n",
    "                extract_key(v)\n",
    "            elif k == class_key:\n",
    "                counting_value(v)\n",
    "    elif isinstance(json, list):\n",
    "        for item in json:\n",
    "            extract_key(item)"
   ]
  },
  {
   "cell_type": "markdown",
   "id": "27fb332d",
   "metadata": {},
   "source": [
    "### 데이터 폴더 읽기"
   ]
  },
  {
   "cell_type": "code",
   "execution_count": 29,
   "id": "76f3019d",
   "metadata": {},
   "outputs": [],
   "source": [
    "json_list = search_json(data_dir)\n",
    "\n",
    "if not json_list:\n",
    "    print('JSON 파일이 없습니다. 폴더를 확인하고 다시 실행해주세요')\n",
    "    \n",
    "else:\n",
    "    # json 경로정보 정제\n",
    "    json_list = [elem.replace('\\\\', '/') for elem in json_list]\n",
    "\n",
    "    # json 경로정보 확인용\n",
    "    '''\n",
    "    for json_file in json_list:\n",
    "        print(json_file)    \n",
    "    '''"
   ]
  },
  {
   "cell_type": "markdown",
   "id": "db3762a5",
   "metadata": {},
   "source": [
    "### 클래스 통계 조사"
   ]
  },
  {
   "cell_type": "code",
   "execution_count": 30,
   "id": "5497fe38",
   "metadata": {},
   "outputs": [
    {
     "name": "stdout",
     "output_type": "stream",
     "text": [
      "{2: 46467, 3: 8408, 1: 29670}\n"
     ]
    }
   ],
   "source": [
    "# json file list 조사\n",
    "for json_file in json_list:\n",
    "    with open(json_file, 'r') as f:\n",
    "        objects = json.load(f)\n",
    "        extract_key(objects)\n",
    "        \n",
    "print(class_dict)"
   ]
  },
  {
   "cell_type": "markdown",
   "id": "20498d1f",
   "metadata": {},
   "source": [
    "### 클래스 통계 내보내기\n",
    "\n",
    "* 출력파일 : stat.csv"
   ]
  },
  {
   "cell_type": "code",
   "execution_count": 32,
   "id": "dd1ce5ef",
   "metadata": {},
   "outputs": [
    {
     "name": "stdout",
     "output_type": "stream",
     "text": [
      "       0\n",
      "2  46467\n",
      "3   8408\n",
      "1  29670\n"
     ]
    }
   ],
   "source": [
    "# Pandas의 DataFrame 활용\n",
    "df = pd.DataFrame(data=class_dict, index=[0])\n",
    "df = (df.T)\n",
    "df.to_excel('stat.xlsx')"
   ]
  },
  {
   "cell_type": "code",
   "execution_count": null,
   "id": "a293b2dc",
   "metadata": {},
   "outputs": [],
   "source": []
  }
 ],
 "metadata": {
  "kernelspec": {
   "display_name": "Python 3",
   "language": "python",
   "name": "python3"
  },
  "language_info": {
   "codemirror_mode": {
    "name": "ipython",
    "version": 3
   },
   "file_extension": ".py",
   "mimetype": "text/x-python",
   "name": "python",
   "nbconvert_exporter": "python",
   "pygments_lexer": "ipython3",
   "version": "3.8.8"
  }
 },
 "nbformat": 4,
 "nbformat_minor": 5
}
